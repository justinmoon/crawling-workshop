{
 "cells": [
  {
   "cell_type": "code",
   "execution_count": 4,
   "metadata": {
    "scrolled": true
   },
   "outputs": [
    {
     "name": "stdout",
     "output_type": "stream",
     "text": [
      "The autoreload extension is already loaded. To reload it, use:\n",
      "  %reload_ext autoreload\n"
     ]
    }
   ],
   "source": [
    "In [1]: %load_ext autoreload\n",
    "\n",
    "In [2]: %autoreload 2"
   ]
  },
  {
   "cell_type": "markdown",
   "metadata": {},
   "source": [
    "# Cars Demo"
   ]
  },
  {
   "cell_type": "code",
   "execution_count": 7,
   "metadata": {},
   "outputs": [
    {
     "name": "stdout",
     "output_type": "stream",
     "text": [
      "Data:\n",
      "[(1, 'Audi', 52642), (2, 'Mercedes', 57127), (3, 'Skoda', 9000), (4, 'Volvo', 29000), (5, 'Bentley', 350000), (6, 'Citroen', 21000), (7, 'Hummer', 41400), (8, 'Volkswagen', 21600)]\n"
     ]
    }
   ],
   "source": [
    "import os\n",
    "import sqlite3 as lite\n",
    "\n",
    "filename = \"cars.db\"\n",
    "\n",
    "con = lite.connect(filename)\n",
    "\n",
    "with con:\n",
    "    cur = con.cursor()\n",
    "\n",
    "    # Create table\n",
    "    cur.execute(\"CREATE TABLE cars(id INT, name TEXT, price INT)\")\n",
    "    \n",
    "    # Insert data\n",
    "    cur.execute(\"INSERT INTO cars VALUES(1,'Audi',52642)\")\n",
    "    cur.execute(\"INSERT INTO cars VALUES(2,'Mercedes',57127)\")\n",
    "    cur.execute(\"INSERT INTO cars VALUES(3,'Skoda',9000)\")\n",
    "    cur.execute(\"INSERT INTO cars VALUES(4,'Volvo',29000)\")\n",
    "    cur.execute(\"INSERT INTO cars VALUES(5,'Bentley',350000)\")\n",
    "    cur.execute(\"INSERT INTO cars VALUES(6,'Citroen',21000)\")\n",
    "    cur.execute(\"INSERT INTO cars VALUES(7,'Hummer',41400)\")\n",
    "    cur.execute(\"INSERT INTO cars VALUES(8,'Volkswagen',21600)\")\n",
    "    \n",
    "    # Fetch data\n",
    "    print(\"Data:\")\n",
    "    print(cur.execute(\"SELECT * FROM CARS\").fetchall())\n",
    "    \n",
    "    # Assert that a file was made\n",
    "    assert os.path.exists('cars.db')\n",
    "    os.remove(filename)"
   ]
  },
  {
   "cell_type": "markdown",
   "metadata": {},
   "source": [
    "# Crawler Database Demo"
   ]
  },
  {
   "cell_type": "code",
   "execution_count": 73,
   "metadata": {},
   "outputs": [],
   "source": [
    "import contextlib\n",
    "import os\n",
    "import random\n",
    "import sqlite3\n",
    "import threading\n",
    "import time\n",
    "\n",
    "def execute_statement(statement, args={}):\n",
    "    with contextlib.closing(sqlite3.connect(\"crawler.db\")) as conn: # auto-closes\n",
    "        with conn: # auto-commits\n",
    "            with contextlib.closing(conn.cursor()) as cursor: # auto-closes\n",
    "                return cursor.execute(statement, args).fetchall()"
   ]
  },
  {
   "cell_type": "code",
   "execution_count": 74,
   "metadata": {},
   "outputs": [],
   "source": [
    "import sqlite3\n",
    "\n",
    "def create_table(remove=False):\n",
    "    filename = \"crawler.db\"\n",
    "    \n",
    "    try:\n",
    "        os.remove(filename)\n",
    "    except Exception as e:\n",
    "        print(e)\n",
    "        pass\n",
    "\n",
    "    q = \"\"\"\n",
    "    CREATE TABLE observations (\n",
    "        services INT,\n",
    "        timestamp INT,\n",
    "        receiver_services INT,\n",
    "        receiver_ip TEXT,\n",
    "        receiver_port INT,\n",
    "        sender_services INT,\n",
    "        sender_ip TEXT,\n",
    "        sender_port INT,\n",
    "        nonce INT,\n",
    "        user_agent TEXT,\n",
    "        latest_block INT,\n",
    "        relay INT\n",
    "    )\n",
    "    \"\"\"\n",
    "    execute_statement(q)"
   ]
  },
  {
   "cell_type": "code",
   "execution_count": null,
   "metadata": {},
   "outputs": [],
   "source": []
  },
  {
   "cell_type": "code",
   "execution_count": 75,
   "metadata": {},
   "outputs": [],
   "source": [
    "def observe_node(args_dict):\n",
    "    q = \"\"\"\n",
    "    INSERT INTO observations (\n",
    "        services,\n",
    "        timestamp,\n",
    "        receiver_services,\n",
    "        receiver_ip,\n",
    "        receiver_port,\n",
    "        sender_services,\n",
    "        sender_ip,\n",
    "        sender_port,\n",
    "        nonce,\n",
    "        user_agent,\n",
    "        latest_block,\n",
    "        relay\n",
    "    ) VALUES (\n",
    "        :services,\n",
    "        :timestamp,\n",
    "        :receiver_services,\n",
    "        :receiver_ip,\n",
    "        :receiver_port,\n",
    "        :sender_services,\n",
    "        :sender_ip,\n",
    "        :sender_port,\n",
    "        :nonce,\n",
    "        :user_agent,\n",
    "        :latest_block,\n",
    "        :relay\n",
    "    )\n",
    "    \"\"\"\n",
    "    execute_statement(q, args_dict)"
   ]
  },
  {
   "cell_type": "code",
   "execution_count": 77,
   "metadata": {},
   "outputs": [
    {
     "name": "stdout",
     "output_type": "stream",
     "text": [
      "[(1037, 1549432183, 0, '::ffff:138.68.171.110', 43040, 1037, '0.0.0.0', 0, 7036288274543688504, b'/Satoshi:0.17.0(UASF-SegWit-BIP148)/', 561756, 1)]\n"
     ]
    }
   ],
   "source": [
    "from io import BytesIO\n",
    "\n",
    "from crawler1 import NetworkEnvelope, VersionMessage\n",
    "\n",
    "ver = b'\\xf9\\xbe\\xb4\\xd9version\\x00\\x00\\x00\\x00\\x00z\\x00\\x00\\x00\\x83\\xa5\\x04\\xc2\\x7f\\x11\\x01\\x00\\r\\x04\\x00\\x00\\x00\\x00\\x00\\x00wuZ\\\\\\x00\\x00\\x00\\x00\\x00\\x00\\x00\\x00\\x00\\x00\\x00\\x00\\x00\\x00\\x00\\x00\\x00\\x00\\x00\\x00\\x00\\x00\\xff\\xff\\x8aD\\xabn\\xa8 \\r\\x04\\x00\\x00\\x00\\x00\\x00\\x00\\x00\\x00\\x00\\x00\\x00\\x00\\x00\\x00\\x00\\x00\\x00\\x00\\x00\\x00\\x00\\x00\\x00\\x008;l\\xe5\\xe7\\xea\\xa5a$/Satoshi:0.17.0(UASF-SegWit-BIP148)/\\\\\\x92\\x08\\x00\\x01'\n",
    "\n",
    "# bytes -> python -> sql\n",
    "ne = NetworkEnvelope.parse(BytesIO(ver))\n",
    "vm = VersionMessage.parse(BytesIO(ne.payload))\n",
    "args_dict = vm.__dict__\n",
    "print(args_dict)\n",
    "print()\n",
    "\n",
    "create_table()\n",
    "observe_node(args_dict)\n",
    "\n",
    "print(execute_statement(\"select * from observations\"))"
   ]
  },
  {
   "cell_type": "code",
   "execution_count": null,
   "metadata": {},
   "outputs": [],
   "source": []
  }
 ],
 "metadata": {
  "kernelspec": {
   "display_name": "Python 3",
   "language": "python",
   "name": "python3"
  },
  "language_info": {
   "codemirror_mode": {
    "name": "ipython",
    "version": 3
   },
   "file_extension": ".py",
   "mimetype": "text/x-python",
   "name": "python",
   "nbconvert_exporter": "python",
   "pygments_lexer": "ipython3",
   "version": "3.6.8"
  }
 },
 "nbformat": 4,
 "nbformat_minor": 2
}
