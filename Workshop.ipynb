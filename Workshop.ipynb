{
 "cells": [
  {
   "cell_type": "code",
   "execution_count": null,
   "metadata": {},
   "outputs": [],
   "source": [
    "%load_ext autoreload\n",
    "%autoreload 2"
   ]
  },
  {
   "cell_type": "markdown",
   "metadata": {},
   "source": [
    "# Sockets\n",
    "\n",
    "Before we connect to can connect to a Bitcoin node I want to connect to a simple ping/pong TCP server \"68.183.109.101:10000\""
   ]
  },
  {
   "cell_type": "code",
   "execution_count": null,
   "metadata": {},
   "outputs": [],
   "source": [
    "import socket\n",
    "\n",
    "def ping(address):\n",
    "    sock = socket.socket()\n",
    "    sock.connect(address)\n",
    "    sock.send(b\"ping\")\n",
    "    response = sock.recv(1024)\n",
    "    print(\"Response: \", response)"
   ]
  },
  {
   "cell_type": "code",
   "execution_count": null,
   "metadata": {},
   "outputs": [],
   "source": [
    "ping_pong_server_address = (\"68.183.109.101\", 10000)\n",
    "\n",
    "ping(ping_pong_server_address)"
   ]
  },
  {
   "cell_type": "markdown",
   "metadata": {},
   "source": [
    "# Let's Try It On Bitcoin\n",
    "\n",
    "[Bitcoin has a `ping` message](https://en.bitcoin.it/wiki/Protocol_documentation#ping)\n",
    "\n",
    "Let's see if this same code will work on Bitcoin?\n",
    "\n",
    "Grab an IPV4 address off [Bitnodes](https://bitnodes.earn.com/nodes/) and try it"
   ]
  },
  {
   "cell_type": "code",
   "execution_count": null,
   "metadata": {},
   "outputs": [],
   "source": [
    "PEER_IP = ?\n",
    "PEER_PORT = ?\n",
    "ping((PEER_IP, PEER_PORT))"
   ]
  },
  {
   "cell_type": "markdown",
   "metadata": {},
   "source": [
    "# Version Handshake\n",
    "\n",
    "The reason the code got stuck is because we didn't properly introduce ourselves to our peer. With Bitcoin, we must perform a [Version Handshake](https://en.bitcoin.it/wiki/Version_Handshake) in order to begin exchanging messages.\n",
    "\n",
    "So let's try again. I'm going to give you a magic `VERSION` bytestring without telling you how I came up with it. Before calling `sock.recv(1024)` we will first call `sock.send(VERSION)` because the Bitcoin Version Handshake demands that the node which initiates the connection send the first `version` message."
   ]
  },
  {
   "cell_type": "code",
   "execution_count": null,
   "metadata": {},
   "outputs": [],
   "source": [
    "# Bitcoin network equivalent of \"hello\"\n",
    "VERSION = b'\\xf9\\xbe\\xb4\\xd9version\\x00\\x00\\x00\\x00\\x00j\\x00\\x00\\x00\\x9b\"\\x8b\\x9e\\x7f\\x11\\x01\\x00\\x0f\\x04\\x00\\x00\\x00\\x00\\x00\\x00\\x93AU[\\x00\\x00\\x00\\x00\\x0f\\x04\\x00\\x00\\x00\\x00\\x00\\x00\\x00\\x00\\x00\\x00\\x00\\x00\\x00\\x00\\x00\\x00\\x00\\x00\\x00\\x00\\x00\\x00\\x00\\x00\\x0f\\x04\\x00\\x00\\x00\\x00\\x00\\x00\\x00\\x00\\x00\\x00\\x00\\x00\\x00\\x00\\x00\\x00\\x00\\x00\\x00\\x00\\x00\\x00\\x00\\x00rV\\xc5C\\x9b:\\xea\\x89\\x14/some-cool-software/\\x01\\x00\\x00\\x00\\x01'\n",
    "\n",
    "sock = socket.socket()\n",
    "sock.connect((PEER_IP, PEER_PORT))\n",
    "\n",
    "# initiate the \"version handshake\"\n",
    "sock.send(VERSION)\n",
    "\n",
    "# receive their \"version\" response\n",
    "response = sock.recv(1024)\n",
    "\n",
    "print(response)"
   ]
  },
  {
   "cell_type": "markdown",
   "metadata": {},
   "source": [
    "# Interpreting Our Peer's Response\n",
    "\n",
    "OK we can initiate some kind of connection with 3 different kinds of address on the Bitcoin network: IPV4, IPV6, or Tor.\n",
    "\n",
    "But what does this mysterious response mean?"
   ]
  },
  {
   "cell_type": "code",
   "execution_count": null,
   "metadata": {
    "scrolled": false
   },
   "outputs": [],
   "source": [
    "print(response)"
   ]
  },
  {
   "cell_type": "markdown",
   "metadata": {},
   "source": [
    "Let's talk about what `bytes` are: just a sequence of integers"
   ]
  },
  {
   "cell_type": "code",
   "execution_count": null,
   "metadata": {},
   "outputs": [],
   "source": [
    "list(response)"
   ]
  },
  {
   "cell_type": "markdown",
   "metadata": {},
   "source": [
    "* They are printed according to [ASCII](http://asciitable.com). If it doesn't have a meaning in there, it's converted to hexidecimal and escaped with a `\\x`. \n",
    "* ascii was 7 bits, which is why it goes to 127\n",
    "* [fun video on ascii & unicode](https://www.youtube.com/watch?v=MijmeoH9LT4)\n",
    "\n",
    "# Reading Network Messages\n",
    "\n",
    "This table in the [protocol documentation](https://en.bitcoin.it/wiki/Protocol_documentation#version) tells us what information the `version` message contains and how to decipher it. But before we can read the version message specifically (as opposed to the other 26 types), we need to learn to read a Bitcoin protocol message generally. This [\"message structure\"](https://en.bitcoin.it/wiki/Protocol_documentation#Message_structure) table tells us how.\n",
    "\n",
    "![image](images/message-structure.png)\n",
    "\n",
    "`command` and `payload` tell us what kind of message we're dealing with, and the contents of that message. These two attributes contain all the useful information.\n",
    "\n",
    "`magic`, `length`, and `checksum` help us read and verify integrity of messages and don't contain any useful information on their own.\n",
    "\n",
    "Regarding the table, the \"description\" and \"comments\" columns tell us what each row in the table means. The \"field size\" column tell us the number of bytes each field takes up, and the \"data type\" column tells us how we should interpret these bytes -- e.g. whether they a number, a string, a list etc.\n",
    "\n",
    "At a high level we're faced with the problem of reading an arbitrary length input N bytes at a time. Our algorithm for reading network message would be:\n",
    "\n",
    "* `magic`: first 4 bytes\n",
    "* `command`: next 12 bytes\n",
    "* `length`: next 4 bytes, interpreted as an integer\n",
    "* `checksum`: next 4 bytes\n",
    "* `payload`: next `length` bytes\n",
    "\n",
    "Notice how we are able to stop exactly at the end of the message without reading one single byte too few or too many.\n",
    "\n",
    "How would you do this in Python?"
   ]
  },
  {
   "cell_type": "markdown",
   "metadata": {},
   "source": [
    "If you think about it, the challenge of reading files is somewhat similar to what we're doing. When dealing with files we read them in chunks (often \"lines\" separated by `\\n`) and frequently don't know how long they are. The programming interfaces for reading files are very mature and powerful. \n",
    "\n",
    "For example:"
   ]
  },
  {
   "cell_type": "code",
   "execution_count": null,
   "metadata": {},
   "outputs": [],
   "source": [
    "with open(\"safu.txt\") as f:\n",
    "    print(f.read(5))\n",
    "    print(f.read(3))\n",
    "    print(f.read(4))"
   ]
  },
  {
   "cell_type": "markdown",
   "metadata": {},
   "source": [
    "Promising, huh?\n",
    "\n",
    "Python has a wonderful [`io.BytesIO`](https://docs.python.org/3/library/io.html#io.BytesIO) utility for turning `bytes` into [\"file objects\"](https://docs.python.org/3/glossary.html#term-file-object) we can `.read(n)` from. It's just a sequence of `bytes` which behaves like a file does. Colloquially we use the terms \"file object\" and \"stream\" interchangeably -- `stream` will make a convenient variable name going forward.\n",
    "\n",
    "Let's try wrapping the `VERSION` bytes we've been using in a `io.BytesIO` and see if we can decompose the message more readably:"
   ]
  },
  {
   "cell_type": "code",
   "execution_count": null,
   "metadata": {},
   "outputs": [],
   "source": [
    "from io import BytesIO\n",
    "\n",
    "def read_msg(stream):\n",
    "    print('4 \"magic\" bytes: ', stream.read(4), '\\n')\n",
    "    print('12 \"command\" bytes: ', stream.read(12), '\\n')\n",
    "    payload_length_bytes = stream.read(4)\n",
    "    print('4 \"length\" bytes', payload_length_bytes, '\\n')\n",
    "    print('4 \"checksum\" bytes', stream.read(4), '\\n')\n",
    "    payload_length = int.from_bytes(payload_length_bytes, 'little')\n",
    "    print(payload_length, ' \"payload\" bytes', stream.read(payload_length), '\\n')\n",
    "    \n",
    "stream = BytesIO(VERSION)\n",
    "read_msg(stream)\n",
    "\n",
    "print('Anything left over?: ', stream.read(1), '\\n')"
   ]
  },
  {
   "cell_type": "markdown",
   "metadata": {},
   "source": [
    "### Reading From Sockets\n",
    "\n",
    "This technique works directly on a socket with one small modification: calling [`socket.socket().makefile`](https://docs.python.org/3/library/socket.html#socket.socket.makefile) to give us a socket-backed \"file object\" we can `.read(n)` from. Where before the socket resembled a file, now it basically is one!"
   ]
  },
  {
   "cell_type": "code",
   "execution_count": null,
   "metadata": {},
   "outputs": [],
   "source": [
    "sock = socket.socket()\n",
    "sock.connect((PEER_IP, PEER_PORT))\n",
    "\n",
    "# get a \"file object\" / \"stream\"\n",
    "# \"r\" for \"read\", \"b\" for \"bytes\"\n",
    "stream = sock.makefile('rb')\n",
    "\n",
    "sock.send(VERSION)\n",
    "\n",
    "# no modifications required!\n",
    "read_msg(stream)\n",
    "\n",
    "print('Anything left over?: ', bytes(stream.peek()[:1]), '\\n')"
   ]
  },
  {
   "cell_type": "markdown",
   "metadata": {},
   "source": [
    "Pretty cool, huh?\n",
    "\n",
    "Did you notice that the last line of the output says `Anything left over?:  b'\\xf9'`. Why did this change? What's the significance of `b'\\xf9'`?\n",
    "\n",
    "Initially we were dealing with a file object with exactly one version message in its buffer. When connecting to a Bitcoin peer our socket-backed file object now contains 2 messages -- so one is left over after we read the first one. As expected it begins with `b'\\xf9'` -- the first character in the network bytes-representation network magic `b'\\xf9\\xbe\\xb4\\xd9'`!\n",
    "\n",
    "The rest of the stream is a [`verack`](https://en.bitcoin.it/wiki/Protocol_documentation#verack), the second step in the [Version Handshake](https://en.bitcoin.it/wiki/Version_Handshake)"
   ]
  },
  {
   "cell_type": "code",
   "execution_count": null,
   "metadata": {},
   "outputs": [],
   "source": [
    "read_msg(stream)"
   ]
  },
  {
   "cell_type": "markdown",
   "metadata": {},
   "source": [
    "# Interpreting Network Messages\n",
    "\n",
    "Now that we know how to read bytes associated with each part of a Bitcoin network message, let's learn to interpret them.\n",
    "\n",
    "First, the \"network magic\" ...\n",
    "\n",
    "###  Interpreting `magic`\n",
    "\n",
    "Every time we receive a Bitcoin network message we want to start by reading the network magic and checking that it's equal to the bytes `b\"\\xf9\\xbe\\xb4\\xd9\"` (this value has been [hard-coded in Bitcoin Core](https://github.com/bitcoin/bitcoin/blob/ace87ea2b00a84b7a76e75f1ec93d1a4dce83f6f/src/chainparams.cpp#L104) since the beginning).\n",
    "\n",
    "Before we learn to do this, let's zoom out and ask \"What is this 'network magic', anyway?\"\n",
    "\n",
    "[This StackExchange post](https://bitcoin.stackexchange.com/questions/43189/what-is-the-magic-number-used-in-the-block-structure/43191#43191) contains the best answer I've seen. Make sure you browse the [Wikipedia article](https://en.wikipedia.org/wiki/Magic_number_(programming)#Magic_numbers_in_protocols) it links to. In brief, magic values are a common method in protocol design for tagging data structures with information indicating it's \"type\". \n",
    "\n",
    "Why did Satoshi choose `\\xf9\\xbe\\xb4\\xd9` for his prefix?\n",
    "1. [A note in the source code we inherited from him](https://github.com/bitcoin/bitcoin/blob/ace87ea2b00a84b7a76e75f1ec93d1a4dce83f6f/src/chainparams.cpp#L100).\n",
    "2. [It has some improbable mathematical properties](https://bitcoin.stackexchange.com/a/52456/85335) Satoshi probably liked for no practical reasons.\n",
    "\n",
    "Now how should we deal with these magic bytes in the process of reading and interpreting real Bitcoin network messages? This one is pretty simple -- just check whether they're equal to the values in the wiki / reference implementation!\n",
    "\n",
    "![image](images/magic-values.png)\n",
    "##### Exercise: Check Network Magic"
   ]
  },
  {
   "cell_type": "code",
   "execution_count": null,
   "metadata": {},
   "outputs": [],
   "source": [
    "NETWORK_MAGIC = b'\\xf9\\xbe\\xb4\\xd9'\n",
    "\n",
    "def read_magic(stream):\n",
    "    raise NotImplementedError()\n",
    "\n",
    "def is_mainnet_msg(stream):\n",
    "    magic = read_magic(stream)\n",
    "    return magic == NETWORK_MAGIC\n",
    "\n",
    "def is_testnet_msg(stream):\n",
    "    magic = read_magic(stream)\n",
    "    return magic == b\"\\x0b\\x11\\x09\\x07\""
   ]
  },
  {
   "cell_type": "code",
   "execution_count": null,
   "metadata": {},
   "outputs": [],
   "source": [
    "def test_magic():\n",
    "    mainnet_msg = b'\\xf9\\xbe\\xb4\\xd9version\\x00\\x00\\x00\\x00\\x00j\\x00\\x00\\x00\\x9b\"\\x8b\\x9e\\x7f\\x11\\x01\\x00\\x0f\\x04\\x00\\x00\\x00\\x00\\x00\\x00\\x93AU[\\x00\\x00\\x00\\x00\\x0f\\x04\\x00\\x00\\x00\\x00\\x00\\x00\\x00\\x00\\x00\\x00\\x00\\x00\\x00\\x00\\x00\\x00\\x00\\x00\\x00\\x00\\x00\\x00\\x00\\x00\\x0f\\x04\\x00\\x00\\x00\\x00\\x00\\x00\\x00\\x00\\x00\\x00\\x00\\x00\\x00\\x00\\x00\\x00\\x00\\x00\\x00\\x00\\x00\\x00\\x00\\x00rV\\xc5C\\x9b:\\xea\\x89\\x14/some-cool-software/\\x01\\x00\\x00\\x00\\x01'\n",
    "    testnet_msg = b'\\x0b\\x11\\x09\\x07version\\x00\\x00\\x00\\x00\\x00j\\x00\\x00\\x00\\x9b\"\\x8b\\x9e\\x7f\\x11\\x01\\x00\\x0f\\x04\\x00\\x00\\x00\\x00\\x00\\x00\\x93AU[\\x00\\x00\\x00\\x00\\x0f\\x04\\x00\\x00\\x00\\x00\\x00\\x00\\x00\\x00\\x00\\x00\\x00\\x00\\x00\\x00\\x00\\x00\\x00\\x00\\x00\\x00\\x00\\x00\\x00\\x00\\x0f\\x04\\x00\\x00\\x00\\x00\\x00\\x00\\x00\\x00\\x00\\x00\\x00\\x00\\x00\\x00\\x00\\x00\\x00\\x00\\x00\\x00\\x00\\x00\\x00\\x00rV\\xc5C\\x9b:\\xea\\x89\\x14/some-cool-software/\\x01\\x00\\x00\\x00\\x01'\n",
    "    \n",
    "    assert is_mainnet_msg(BytesIO(mainnet_msg)) is True\n",
    "    assert is_mainnet_msg(BytesIO(testnet_msg)) is False\n",
    "    \n",
    "    assert is_testnet_msg(BytesIO(testnet_msg)) is True\n",
    "    assert is_testnet_msg(BytesIO(mainnet_msg)) is False\n",
    "    print(\"Test passed!\")\n",
    "\n",
    "test_magic()"
   ]
  },
  {
   "cell_type": "markdown",
   "metadata": {},
   "source": [
    "### Interpret `command`\n",
    "\n",
    "In practice, when you receive a Bitcoin network message you want to check the `command` attribute and call a handler function that knows what to do with each of the 27 different kinds of Bitcoin peer-to-peer messages.\n",
    "\n",
    "By default commands are right padded with empty bytes (`b\"\\x00\"`) until 12 total bytes are reached. For example, a `version` command would look like `b\"version\\x00\\x00\\x00\\x00\\x00\"`. For readability sake, let's strip the empty byte padding so we can deal with the cleaner `b\"version` instead.\n",
    "\n",
    "##### Exercise: Interpret `command`"
   ]
  },
  {
   "cell_type": "code",
   "execution_count": null,
   "metadata": {},
   "outputs": [],
   "source": [
    "def read_command(stream):\n",
    "    raw = stream.read(12)\n",
    "    command = raw.strip(b\"\\x00\")  # remove empty byte padding\n",
    "    return command\n",
    "    \n",
    "def is_version_msg(stream):\n",
    "    command = read_command(stream)\n",
    "    return \"FIXME\"\n",
    "    \n",
    "def is_verack_msg(stream):\n",
    "    command = read_command(stream)\n",
    "    return \"FIXME\""
   ]
  },
  {
   "cell_type": "code",
   "execution_count": null,
   "metadata": {},
   "outputs": [],
   "source": [
    "VERACK = b\"\\xf9\\xbe\\xb4\\xd9verack\\x00\\x00\\x00\\x00\\x00\\x00\\x00\\x00\\x00\\x00]\\xf6\\xe0\\xe2\"\n",
    "\n",
    "def read_command_test():\n",
    "    stream = BytesIO(VERSION)\n",
    "    stream.seek(4)\n",
    "    assert is_version_msg(stream) is True\n",
    "    stream.seek(-12, 1)\n",
    "    assert is_verack_msg(stream) is False\n",
    "\n",
    "    stream = BytesIO(VERACK)\n",
    "    stream.seek(4)\n",
    "    assert is_verack_msg(stream) is True\n",
    "    stream.seek(-12, 1)\n",
    "    assert is_version_msg(stream) is False\n",
    "    print(\"Tests passed\")\n",
    "\n",
    "read_command_test()"
   ]
  },
  {
   "cell_type": "markdown",
   "metadata": {},
   "source": [
    "# Read `payload`\n",
    "\n",
    "Lastly, let's parse the 3 payload-related portions of the message: \"length\", \"checksum\", and \"payload\".\n",
    "\n",
    "![image](images/message-structure.png)\n",
    "\n",
    "The goal of these three attributes is to read and verify the integrity of the `payload` -- which could be a newly mined block, or a transaction, or a list of peer IP addresses.\n",
    "\n",
    "Payloads vary in length. A [`verack` message](https://en.bitcoin.it/wiki/Protocol_documentation#verack) has empty payload. A [`block` message](https://en.bitcoin.it/wiki/Protocol_documentation#block) payload may contain a thousand transactions.\n",
    "\n",
    "To deal with the varying payload sizes, messages always include a `length` parameter which tells us exactly how large the payload is. This helps us avoid reading part of the payload and stopping in the middle, or overshooting and reading into the next message (like the example above where I read two messages by accident).\n",
    "\n",
    "Once we read the payload, how can we be sure that what we receive is the same as what our peer node sent us? That nobody modified the message while it was being routed to us over the internet?\n",
    "\n",
    "For this we use a \"checksum\":\n",
    "\n",
    "Checksums are a simple idea: when you send data you also include a small fingerprint of that data. Your recipient can check the fingerprint against the data they receive and verify with some probability the message wasn't tampered with en route.\n",
    "\n",
    "The Bitcoin protocol creates such a fingerprint by running a [hashing algorithm](https://blog.jscrambler.com/hashing-algorithms/) called [SHA256](https://en.wikipedia.org/wiki/SHA-2) on the data twice and then grabbing the first 4 bytes of the result. How can we be sure this fingerprint is any good? \n",
    "\n",
    "1. Hashing functions are \"deterministic\": given an input `x`, a hashing algorithm `h` will _always_ produce the same output `h(x)`. Since the output is always the same, the first, say, four digits of the output will always be the same. \n",
    "2. Calculating the inverse of a hashing function `h(x) -> x` requires brute force, you'd need to try about 256^4 ≈ 500,000,000 payload modifications (a byte contains 256 possible values and there are 4 bytes) on average to produce a viable payload modification with the same checksum.\n",
    "3. TCP protocol applies a separate checksum verification to each message! \\[sidenote: [Speculating why Satoshi choose to add a second checksum on top of TCP](https://bitcoin.stackexchange.com/a/22887/85335).\\]\n",
    "\n",
    "If the checksums match it is very unlikely that the message was accidentally mangled in transit.\n",
    "\n",
    "### Reading Integers\n",
    "\n",
    "The first field of the 3 payload-related fields is the 4-byte `length`. The `length` bytes of the `version` messages we handled at the beginning were `b'j\\x00\\x00\\x00'`\n",
    "\n",
    "Here's the tricky part: What number do those bytes represent? More generally, how do we turn numbers into bytes and bytes into numbers?\n",
    "\n",
    "This is a question of \"type conversions,\" \"serialization,\" or \"encoding\". The TCP protocol only lets you send numbers between 0 and 255. But our messages almost always need to be more expressive than just a number between 0 and 255.\n",
    "\n",
    "Therefore we must define rules for conversion of every type of Python data to and from the universal TCP-compatible format `bytes`.\n",
    "\n",
    "Such rules were at work in this magical, unexplained line of code in the `read_msg` function we defined earlier:\n",
    "\n",
    "```\n",
    "payload_length = int.from_bytes(stream.read(4), 'little')\n",
    "```\n",
    "\n",
    "##### Exercise: Write a `read_length` Function\n",
    "\n",
    "Read the correct number of bytes according to the protocol docs and interpret them as an int using `length = int.from_bytes(some_bytes, 'little')`"
   ]
  },
  {
   "cell_type": "code",
   "execution_count": null,
   "metadata": {},
   "outputs": [],
   "source": [
    "def read_length(stream):\n",
    "    raise NotImplementedError()"
   ]
  },
  {
   "cell_type": "code",
   "execution_count": null,
   "metadata": {},
   "outputs": [],
   "source": [
    "def test_read_length():\n",
    "    stream = BytesIO(VERSION)\n",
    "    stream.read(4 + 12)  # throw away magic and command\n",
    "    assert read_length(stream) == 106\n",
    "    print(\"Test passed\")\n",
    "\n",
    "test_read_length()"
   ]
  },
  {
   "cell_type": "markdown",
   "metadata": {},
   "source": [
    "##### Exercise 5: Write a `read_checksum` Function\n",
    "\n",
    "Just read the correct number of bytes and return them. This one's easy ..."
   ]
  },
  {
   "cell_type": "code",
   "execution_count": null,
   "metadata": {},
   "outputs": [],
   "source": [
    "def read_checksum(stream):\n",
    "    raise NotImplementedError()"
   ]
  },
  {
   "cell_type": "code",
   "execution_count": null,
   "metadata": {},
   "outputs": [],
   "source": [
    "def test_read_checksum():\n",
    "    stream = BytesIO(VERSION)\n",
    "    stream.read(4 + 12 + 4)  # throw away magic, command and length\n",
    "    assert read_checksum(stream) == b'\\x9b\"\\x8b\\x9e'\n",
    "    print(\"Test passed\")\n",
    "\n",
    "test_read_checksum()"
   ]
  },
  {
   "cell_type": "markdown",
   "metadata": {},
   "source": [
    "##### Exercise 6: Write a `read_payload` Function\n",
    "\n",
    "This function has 2 parameters: `stream` and `length`, which represents the number of bytes we should read. In practice, `length` would come from running `read_length`"
   ]
  },
  {
   "cell_type": "code",
   "execution_count": null,
   "metadata": {},
   "outputs": [],
   "source": [
    "def read_payload(stream, length):\n",
    "    raise NotImplementedError()"
   ]
  },
  {
   "cell_type": "code",
   "execution_count": null,
   "metadata": {},
   "outputs": [],
   "source": [
    "def test_read_payload():\n",
    "    stream = BytesIO(VERSION + b\"x\")\n",
    "    stream.read(4 + 12)  # throw away magic and command\n",
    "    length = read_length(stream)\n",
    "    stream.read(4)\n",
    "    assert len(read_payload(stream, length)) == 106\n",
    "    assert stream.read(1) == b\"x\"\n",
    "    print(\"Test passed\")\n",
    "    \n",
    "test_read_checksum()"
   ]
  },
  {
   "cell_type": "markdown",
   "metadata": {},
   "source": [
    "Bitcoin uses the SHA256 hashing function to produce and verify checksums. Here is how to run SHA256 on the bytes `b\"don't trust, verify\"` and get `bytes` as a result."
   ]
  },
  {
   "cell_type": "code",
   "execution_count": null,
   "metadata": {},
   "outputs": [],
   "source": [
    "from hashlib import sha256\n",
    "\n",
    "sha256(b\"don't trust, verify\").digest()"
   ]
  },
  {
   "cell_type": "markdown",
   "metadata": {},
   "source": [
    "Where Bitcoin uses SHA256, it usually uses it twice. [Here's a discussion](https://bitcoin.stackexchange.com/questions/6037/why-are-hashes-in-the-bitcoin-protocol-typically-computed-twice-double-computed) of why Satoshi might have made this decision  \n",
    "\n",
    "##### Exercise 7: Write a `double_sha256` function which runs `sha256` twice on input and return `bytes` as output"
   ]
  },
  {
   "cell_type": "code",
   "execution_count": null,
   "metadata": {},
   "outputs": [],
   "source": [
    "def double_sha256(b):\n",
    "    raise NotImplementedError()"
   ]
  },
  {
   "cell_type": "code",
   "execution_count": null,
   "metadata": {},
   "outputs": [],
   "source": [
    "def test_double_sha256():\n",
    "    assert hash256(b\"don't trust, verify\") == b'\\xdf\\xdbf\\x95\\x14\\x98|45\\xda6\\x1em\\x06y\\xc9\\xee@\\x85\\xa5\\xca\\x1d\\xaa\\xa1.\\xf9\\t\\x91\\x9c\\xc1\\xa7\\xf0'\n",
    "    print(\"Test passed\")\n",
    "\n",
    "test_double_sha256()"
   ]
  },
  {
   "cell_type": "markdown",
   "metadata": {},
   "source": [
    "##### Exercise 8: Write a `compute_checksum` function which returns the first four bytes of \"double-sha256\""
   ]
  },
  {
   "cell_type": "code",
   "execution_count": null,
   "metadata": {},
   "outputs": [],
   "source": [
    "def compute_checksum(b):\n",
    "    raise NotImplementedError()"
   ]
  },
  {
   "cell_type": "code",
   "execution_count": null,
   "metadata": {},
   "outputs": [],
   "source": [
    "def test_compute_checksum():\n",
    "    assert compute_checksum(b\"don't trust, verify\") == b'\\xdf\\xdbf\\x95'\n",
    "    print(\"Test passed\")\n",
    "\n",
    "test_compute_checksum()"
   ]
  },
  {
   "cell_type": "markdown",
   "metadata": {},
   "source": [
    "If you have all the tests passing so far, you can now parse and validate the integrity of Bitcoin message payload\n"
   ]
  },
  {
   "cell_type": "code",
   "execution_count": null,
   "metadata": {},
   "outputs": [],
   "source": [
    "stream = BytesIO(VERSION + b\"x\")\n",
    "stream.read(4 + 12) # throw away magic and command\n",
    "\n",
    "length = read_length(stream)\n",
    "checksum = read_checksum(stream)\n",
    "payload = read_payload(stream, length)\n",
    "\n",
    "print(\"Length: \", length)\n",
    "\n",
    "print(\"Checksum: \", checksum)\n",
    "\n",
    "print(\"Payload: \", payload)\n",
    "\n",
    "print(\"checksum == compute_checksum(payload)?: \", \n",
    "      checksum == compute_checksum(payload))"
   ]
  },
  {
   "cell_type": "code",
   "execution_count": null,
   "metadata": {},
   "outputs": [],
   "source": [
    "def read_msg(stream):\n",
    "    magic = read_magic(stream)\n",
    "    if magic != NETWORK_MAGIC:\n",
    "        raise Exception(f'Magic is wrong: {magic}')\n",
    "    command = read_command(stream)\n",
    "    payload_length = read_length(stream)\n",
    "    checksum = read_checksum(stream)\n",
    "    payload = read_payload(stream, payload_length)\n",
    "    if checksum != compute_checksum(payload):\n",
    "        raise Exception('Checksum does not match')\n",
    "    return {\n",
    "        \"command\": command,\n",
    "        \"payload\": payload,\n",
    "    }"
   ]
  },
  {
   "cell_type": "code",
   "execution_count": null,
   "metadata": {},
   "outputs": [],
   "source": [
    "sock = socket.socket()\n",
    "sock.connect((PEER_IP, PEER_PORT))\n",
    "stream = sock.makefile('rb')\n",
    "sock.send(VERSION)\n",
    "msg = read_msg(stream)\n",
    "\n",
    "print(msg)\n",
    "\n",
    "print('Anything left over?: ', bytes(stream.peek()[:1]), '\\n')"
   ]
  },
  {
   "cell_type": "code",
   "execution_count": null,
   "metadata": {},
   "outputs": [],
   "source": [
    "# It will fail now if the prefix is wrong\n",
    "bad_version = b\"oops\" + VERSION[4:]\n",
    "\n",
    "read_msg(BytesIO(bad_version))"
   ]
  },
  {
   "cell_type": "code",
   "execution_count": null,
   "metadata": {},
   "outputs": [],
   "source": [
    "# It will fail now if a byte is manipulated\n",
    "bad_version = VERSION[:-1] + b\"x\"\n",
    "\n",
    "read_msg(BytesIO(bad_version))"
   ]
  },
  {
   "cell_type": "markdown",
   "metadata": {},
   "source": [
    "# Reading The Version Payload"
   ]
  },
  {
   "cell_type": "code",
   "execution_count": null,
   "metadata": {},
   "outputs": [],
   "source": [
    "from lib import read_version_payload\n",
    "\n",
    "payload_stream = BytesIO(msg[\"payload\"])\n",
    "read_version_payload(payload_stream)"
   ]
  },
  {
   "cell_type": "markdown",
   "metadata": {},
   "source": [
    "# The Other Direction: Python -> Bytes\n",
    "\n",
    "When we want to send a message and we already have the command chosen and the payload prepared, we just do the opposite.\n",
    "\n",
    "Here's how to serialize a message given `bytes` payload:"
   ]
  },
  {
   "cell_type": "code",
   "execution_count": null,
   "metadata": {},
   "outputs": [],
   "source": [
    "def serialize_msg(command, payload):\n",
    "    result = NETWORK_MAGIC\n",
    "    result += command + b'\\x00' * (12 - len(command))\n",
    "    result += len(payload).to_bytes(4, 'little')\n",
    "    result += compute_checksum\n",
    "    result += payload\n",
    "    return result"
   ]
  },
  {
   "cell_type": "code",
   "execution_count": null,
   "metadata": {
    "scrolled": true
   },
   "outputs": [],
   "source": [
    "from lib import serialize_version_payload\n",
    "\n",
    "# has default values\n",
    "print(serialize_version_payload())\n",
    "\n",
    "print()\n",
    "\n",
    "# which can be overridden\n",
    "print(serialize_version_payload(user_agent=b\"/pretzels/\"))"
   ]
  },
  {
   "cell_type": "markdown",
   "metadata": {},
   "source": [
    "##### Putting it all together"
   ]
  },
  {
   "cell_type": "code",
   "execution_count": null,
   "metadata": {},
   "outputs": [],
   "source": [
    "from db import *\n",
    "from lib import *\n",
    "\n",
    "def handshake(address):\n",
    "    sock = connect(address)\n",
    "    stream = sock.makefile(\"rb\")\n",
    "\n",
    "    # Step 1: our version message\n",
    "    payload = serialize_version_payload()\n",
    "    msg = serialize_msg(b\"version\", payload)\n",
    "    sock.sendall(msg)\n",
    "    print(\"Sent version\")\n",
    "\n",
    "    # Step 2: their version message\n",
    "    msg = read_msg(stream)\n",
    "    version_payload = read_version_payload(BytesIO(msg[\"payload\"]))\n",
    "    print(\"Version: \", msg)\n",
    "\n",
    "    # Step 3: their version message\n",
    "    msg = read_msg(stream)\n",
    "    print(\"Verack: \", msg)\n",
    "\n",
    "    # Step 4: our verack\n",
    "    msg = serialize_msg(b\"verack\", b\"\")\n",
    "    sock.sendall(msg)\n",
    "    print(\"Sent verack\")\n",
    "\n",
    "    return sock, version_payload"
   ]
  },
  {
   "cell_type": "code",
   "execution_count": null,
   "metadata": {
    "scrolled": true
   },
   "outputs": [],
   "source": [
    "create_table()\n",
    "print(\"Observations before handshake:\")\n",
    "print(list_observations())\n",
    "print()\n",
    "handshake((\"35.198.151.21\", 8333))\n",
    "print()\n",
    "print(\"Observations after handshake:\")\n",
    "print(list_observations())\n",
    "print()"
   ]
  },
  {
   "cell_type": "markdown",
   "metadata": {},
   "source": [
    "# A Listener\n",
    "\n",
    "Connect to a peer and print out all messages received from them"
   ]
  },
  {
   "cell_type": "code",
   "execution_count": null,
   "metadata": {},
   "outputs": [],
   "source": [
    "def listener(address):\n",
    "    sock, version_payload = handshake(address)\n",
    "    stream = sock.makefile(\"rb\")\n",
    "    while True:\n",
    "        print(read_msg(stream))\n",
    "        \n",
    "listener(('2a00:ee2:1200:1900:20c:29ff:fe45:9554', 8333))"
   ]
  },
  {
   "cell_type": "markdown",
   "metadata": {},
   "source": [
    "# Fails with IPv6\n",
    "\n",
    "We want to write a crawler -- so we need to handle every kind of IP address we could encounter on the Bitcoin network."
   ]
  },
  {
   "cell_type": "code",
   "execution_count": null,
   "metadata": {},
   "outputs": [],
   "source": [
    "# Bitcoin network equivalent of \"hello\"\n",
    "VERSION = b'\\xf9\\xbe\\xb4\\xd9version\\x00\\x00\\x00\\x00\\x00j\\x00\\x00\\x00\\x9b\"\\x8b\\x9e\\x7f\\x11\\x01\\x00\\x0f\\x04\\x00\\x00\\x00\\x00\\x00\\x00\\x93AU[\\x00\\x00\\x00\\x00\\x0f\\x04\\x00\\x00\\x00\\x00\\x00\\x00\\x00\\x00\\x00\\x00\\x00\\x00\\x00\\x00\\x00\\x00\\x00\\x00\\x00\\x00\\x00\\x00\\x00\\x00\\x0f\\x04\\x00\\x00\\x00\\x00\\x00\\x00\\x00\\x00\\x00\\x00\\x00\\x00\\x00\\x00\\x00\\x00\\x00\\x00\\x00\\x00\\x00\\x00\\x00\\x00rV\\xc5C\\x9b:\\xea\\x89\\x14/some-cool-software/\\x01\\x00\\x00\\x00\\x01'\n",
    "\n",
    "sock = socket.socket()\n",
    "sock.connect(('2a00:ee2:1200:1900:20c:29ff:fe45:9554', PEER_PORT))\n",
    "\n",
    "# initiate the \"version handshake\"\n",
    "sock.send(VERSION)\n",
    "\n",
    "# receive their \"version\" response\n",
    "response = sock.recv(1024)\n",
    "\n",
    "print(response)"
   ]
  },
  {
   "cell_type": "markdown",
   "metadata": {},
   "source": [
    "# More info about sockets\n",
    "\n",
    "[socket.socket](https://docs.python.org/3.7/library/socket.html#socket.socket) takes 4 optional arguments. The first one is especially important -- it defines whether you will use IPV4 or IPV6 (or protocol families).\n",
    "\n",
    "We can use the `getaddrinfo` function to automate the selection of these variables:\n",
    "\n",
    "getaddrinfo returns `(family, type, proto, canonname, sockaddr)` ([docs](https://docs.python.org/3.7/library/socket.html#socket.getaddrinfo))\n",
    "\n",
    "First 3 should be sent to `socket.socket()` constructor\n",
    "\n",
    "Last 1 will be sent to `socket.socket().connect()`"
   ]
  },
  {
   "cell_type": "code",
   "execution_count": null,
   "metadata": {},
   "outputs": [],
   "source": [
    "import socket\n",
    "\n",
    "ai = socket.getaddrinfo('2a00:ee2:1200:1900:20c:29ff:fe45:9554', 8333)\n",
    "\n",
    "for item in ai:\n",
    "    print(item, \"\\n\")"
   ]
  },
  {
   "cell_type": "code",
   "execution_count": null,
   "metadata": {},
   "outputs": [],
   "source": [
    "tcp_listing = ai[0]\n",
    "tcp_listing"
   ]
  },
  {
   "cell_type": "code",
   "execution_count": null,
   "metadata": {},
   "outputs": [],
   "source": [
    "socket_info, connect_info = tcp_listing[:-2], tcp_listing[-1]\n",
    "sock = socket.socket(*socket_info)\n",
    "sock.connect(connect_info)\n",
    "sock.send(VERSION)\n",
    "print(\"Now it works with IPV6:\\n\")\n",
    "print(sock.recv(1024))"
   ]
  },
  {
   "cell_type": "markdown",
   "metadata": {},
   "source": [
    "# Tor\n",
    "\n",
    "Tor is running on this server.\n",
    "\n",
    "Watch how our IP changes as soon as we patch `socket.socket` with one that proxies through Tor:"
   ]
  },
  {
   "cell_type": "code",
   "execution_count": null,
   "metadata": {
    "scrolled": false
   },
   "outputs": [],
   "source": [
    "import socks\n",
    "import requests\n",
    "\n",
    "print(\"Old IP\", requests.get(\"http://icanhazip.com\").text)\n",
    "socks.setdefaultproxy(\n",
    "    proxy_type=socks.PROXY_TYPE_SOCKS5, \n",
    "    addr=\"127.0.0.1\", \n",
    "    port=9050,\n",
    ")\n",
    "old_socket = socket.socket\n",
    "socket.socket = socks.socksocket\n",
    "print(\"New IP\", requests.get(\"http://icanhazip.com\").text)\n",
    "socket.socket = old_socket  # change it back ..."
   ]
  },
  {
   "cell_type": "code",
   "execution_count": null,
   "metadata": {},
   "outputs": [],
   "source": [
    "import socks\n",
    "\n",
    "address = (\"aihen7kfbtscyknf.onion\", 8333)\n",
    "\n",
    "socks.setdefaultproxy(socks.PROXY_TYPE_SOCKS5, \"127.0.0.1\", 9050)\n",
    "socksocket = socks.socksocket()\n",
    "socksocket.connect(address)\n",
    "socksocket.send(VERSION)\n",
    "\n",
    "print(\"Also works with Tor:\\n\")\n",
    "print(socksocket.recv(1024))"
   ]
  },
  {
   "cell_type": "markdown",
   "metadata": {},
   "source": [
    "# A Simple Crawler"
   ]
  },
  {
   "cell_type": "code",
   "execution_count": null,
   "metadata": {},
   "outputs": [],
   "source": [
    "from lib import *\n",
    "from db import *\n",
    "\n",
    "addresses = [\n",
    "    (\"35.198.151.21\", 8333),\n",
    "    (\"91.221.70.137\", 8333),\n",
    "    (\"92.255.176.109\", 8333),\n",
    "    (\"94.199.178.17\", 8333),\n",
    "]\n",
    "\n",
    "def simple_crawler(addresses):\n",
    "    while addresses:\n",
    "        start = time.time()\n",
    "        address = addresses.pop()\n",
    "        print('Connecting to ', address)\n",
    "\n",
    "        # If we can't connect, proceed to next address\n",
    "        try:\n",
    "            sock, version_payload = handshake(address)\n",
    "        except Exception as e:\n",
    "            print(f\"Encountered error: {e}\")\n",
    "            continue\n",
    "        \n",
    "        # Save the address & version payload\n",
    "        observe_node(address, version_payload)\n",
    "            \n",
    "        stream = sock.makefile(\"rb\")\n",
    "    \n",
    "        # Request their peer list\n",
    "        sock.send(serialize_msg(b\"getaddr\", b\"\"))\n",
    "\n",
    "        print(\"Waiting for addr message\")\n",
    "        while True:\n",
    "            # Only wait 5 seconds for addr message\n",
    "            if time.time() - start > 5:\n",
    "                break  \n",
    "            \n",
    "            # If connection breaks, proceed to next address\n",
    "            try:\n",
    "                msg = read_msg(stream)\n",
    "            except:\n",
    "                break\n",
    "            \n",
    "            # Only handle \"addr\" messages\n",
    "            if msg[\"command\"] == b\"addr\":\n",
    "                addr_payload = read_addr_payload(BytesIO(msg[\"payload\"]))\n",
    "                if len(addr_payload[\"addresses\"]) > 1:\n",
    "                    addresses.extend([(a[\"ip\"], a[\"port\"]) for a in addr_payload[\"addresses\"]])\n",
    "                    print(f'Received {len(addr_payload[\"addresses\"])} addrs')\n",
    "                    break\n",
    "            else:\n",
    "                print(\"ignoring \", msg[\"command\"])\n",
    "    print(\"Ran out of addresses. Exiting.\")"
   ]
  },
  {
   "cell_type": "code",
   "execution_count": null,
   "metadata": {
    "scrolled": true
   },
   "outputs": [],
   "source": [
    "create_table()\n",
    "simple_crawler(addresses)"
   ]
  },
  {
   "cell_type": "code",
   "execution_count": null,
   "metadata": {},
   "outputs": [],
   "source": [
    "count_observations()"
   ]
  },
  {
   "cell_type": "markdown",
   "metadata": {},
   "source": [
    "# A Better Crawler\n"
   ]
  },
  {
   "cell_type": "code",
   "execution_count": null,
   "metadata": {},
   "outputs": [],
   "source": [
    "import logging\n",
    "\n",
    "logging.basicConfig(level=\"INFO\", format='%(threadName)-6s | %(message)s')\n",
    "logger = logging.getLogger(__name__)"
   ]
  },
  {
   "cell_type": "code",
   "execution_count": null,
   "metadata": {},
   "outputs": [],
   "source": [
    "logger.info(\"Hello, world!\")"
   ]
  },
  {
   "cell_type": "code",
   "execution_count": null,
   "metadata": {},
   "outputs": [],
   "source": [
    "def nap():\n",
    "    time.sleep(1)\n",
    "    logger.info(\"Awake\")"
   ]
  },
  {
   "cell_type": "code",
   "execution_count": null,
   "metadata": {},
   "outputs": [],
   "source": [
    "nap()"
   ]
  },
  {
   "cell_type": "code",
   "execution_count": null,
   "metadata": {},
   "outputs": [],
   "source": [
    "def synchronous_naps():\n",
    "    for i in range(5):\n",
    "        nap()\n",
    "    logger.info(\"Done\")"
   ]
  },
  {
   "cell_type": "code",
   "execution_count": null,
   "metadata": {},
   "outputs": [],
   "source": [
    "synchronous_naps()"
   ]
  },
  {
   "cell_type": "code",
   "execution_count": null,
   "metadata": {},
   "outputs": [],
   "source": [
    "def threaded_naps():\n",
    "    threads = []\n",
    "    \n",
    "    for i in range(5):\n",
    "        thread = Thread(target=nap)\n",
    "        thread.start()\n",
    "        threads.append(thread)\n",
    "\n",
    "    for thread in threads:\n",
    "        thread.join()\n",
    "        \n",
    "    logger.info(\"Done\")"
   ]
  },
  {
   "cell_type": "code",
   "execution_count": null,
   "metadata": {},
   "outputs": [],
   "source": [
    "threaded_naps()"
   ]
  },
  {
   "cell_type": "code",
   "execution_count": null,
   "metadata": {},
   "outputs": [],
   "source": [
    "from queue import Queue\n",
    "from threading import Thread\n",
    "\n",
    "def worker(worker_id, address_queue):\n",
    "    print(\"starting worker\", worker_id)\n",
    "    while True:\n",
    "        start = time.time()\n",
    "\n",
    "        address = address_queue.get()\n",
    "        print(f'connecting to {address}')\n",
    "\n",
    "        # If we can't connect, proceed to next addressf\n",
    "        try:\n",
    "            sock, version_payload = handshake(address)\n",
    "        except Exception as e:\n",
    "            print(f\"Encountered error: {e}\")\n",
    "            continue\n",
    "\n",
    "        stream = sock.makefile(\"rb\")\n",
    "\n",
    "        # Save the address & version payload\n",
    "        observe_node(address, version_payload)\n",
    "\n",
    "        # Request their peer list\n",
    "        sock.send(serialize_msg(b\"getaddr\", b\"\"))\n",
    "        print(f'sent \"getaddr\"')\n",
    "\n",
    "        print(\"Waiting for addr message\")\n",
    "        while True:\n",
    "            # Only wait 5 seconds for addr message\n",
    "            if time.time() - start > 5:\n",
    "                break\n",
    "\n",
    "            # If connection breaks, proceed to next address\n",
    "            try:\n",
    "                msg = read_msg(stream)\n",
    "            except:\n",
    "                print(\"Error reading message\")\n",
    "                break\n",
    "\n",
    "            # Only handle \"addr\" messages\n",
    "            if msg[\"command\"] == b\"addr\":\n",
    "                addr_payload = read_addr_payload(BytesIO(msg[\"payload\"]))\n",
    "                for address in addr_payload[\"addresses\"]:\n",
    "                    address_queue.put((address[\"ip\"], address[\"port\"]))            \n",
    "                    print(f'Received {len(addr_payload[\"addresses\"])} addrs from {address[\"ip\"]}')\n",
    "                break\n",
    "            else:\n",
    "                print(\"ignoring\", msg['command'])\n",
    "                          \n",
    "    print(\"exiting\")\n",
    "                  \n",
    "def threaded_crawler(addresses, workers=5):\n",
    "    address_queue = Queue()\n",
    "    for address in addresses:\n",
    "        address_queue.put(address)\n",
    "        \n",
    "    threads = []\n",
    "    \n",
    "    for worker_id in range(workers):\n",
    "        thread = Thread(target=worker, args=(worker_id, address_queue))\n",
    "        thread.start()\n",
    "        threads.append(thread)\n",
    "\n",
    "    for thread in threads:\n",
    "        thread.join()"
   ]
  },
  {
   "cell_type": "code",
   "execution_count": null,
   "metadata": {},
   "outputs": [],
   "source": [
    "create_table()\n",
    "threaded_crawler(addresses)"
   ]
  },
  {
   "cell_type": "code",
   "execution_count": null,
   "metadata": {},
   "outputs": [],
   "source": [
    "count_observations()"
   ]
  },
  {
   "cell_type": "markdown",
   "metadata": {},
   "source": [
    "# DNS Seeds\n",
    "\n",
    "We could use some better \n",
    "\n",
    "Open up the terminal and run:\n",
    "\n",
    "```\n",
    "$ nslookup seed.bitcoin.sprovoost.nl\n",
    "```"
   ]
  },
  {
   "cell_type": "markdown",
   "metadata": {},
   "source": [
    "getaddrinfo: domain name -> ip address\n",
    "getnameinfo: ip address -> domain name\n",
    "\n",
    "([wiki](https://en.wikipedia.org/wiki/Getaddrinfo))\n",
    "\n",
    "You can do this from Python"
   ]
  },
  {
   "cell_type": "code",
   "execution_count": null,
   "metadata": {},
   "outputs": [],
   "source": [
    "dns_seed = \"seed.bitcoin.sprovoost.nl\"\n",
    "\n",
    "socket.getaddrinfo(dns_seed,0,0,0,0)"
   ]
  },
  {
   "cell_type": "code",
   "execution_count": null,
   "metadata": {},
   "outputs": [],
   "source": [
    "dns_seeds = [\n",
    "    'dnsseed.bitcoin.dashjr.org', \n",
    "    'dnsseed.bluematt.me', \n",
    "    'seed.bitcoin.sipa.be', \n",
    "    'seed.bitcoinstats.com', \n",
    "    'seed.bitcoin.sprovoost.nl', \n",
    "    'seed.bitnodes.io',\n",
    "]\n",
    "\n",
    "def fetch_ips(dns_seed):\n",
    "    ip_list = []\n",
    "    ais = socket.getaddrinfo(dns_seed,0,0,0,0)\n",
    "    for result in ais:\n",
    "        ip_list.append(result[-1][0])\n",
    "    return list(set(ip_list))\n",
    "\n",
    "def fetch_addresses(dns_seeds):\n",
    "    result = []\n",
    "    for dns_seed in dns_seeds:\n",
    "        try:\n",
    "            ips = fetch_ips(dns_seed)\n",
    "            addresses = [(ip, 8333) for ip in ips]\n",
    "            result.extend(addresses)\n",
    "        except:\n",
    "            print(f\"Error fetching addresses from {dns_seed}\")\n",
    "            continue\n",
    "    return result\n",
    "            \n",
    "dns_seed_addresses = fetch_addresses(dns_seeds)\n",
    "dns_seed_addresses"
   ]
  },
  {
   "cell_type": "code",
   "execution_count": null,
   "metadata": {
    "scrolled": true
   },
   "outputs": [],
   "source": [
    "threaded_crawler(dns_seed_addresses, workers=50)"
   ]
  },
  {
   "cell_type": "code",
   "execution_count": null,
   "metadata": {
    "scrolled": true
   },
   "outputs": [],
   "source": [
    "count_observations()"
   ]
  },
  {
   "cell_type": "code",
   "execution_count": null,
   "metadata": {},
   "outputs": [],
   "source": [
    "# I ran for 5 minutes with 50 workers:\n",
    "from db import *\n",
    "count_observations(\"five-minutes.db\")"
   ]
  },
  {
   "cell_type": "markdown",
   "metadata": {},
   "source": [
    "Homework:\n",
    "* do some data science\n",
    "* record timestamps and graph over time\n",
    "* get GEOIP data and stick that in the observations\n",
    "* try to figure out whether nodes are running in AWS or Google cloud. Which is more popular?\n",
    "* Keep track of errors. Why are they happening. Am I doing something stupid?"
   ]
  }
 ],
 "metadata": {
  "kernelspec": {
   "display_name": "Python 3",
   "language": "python",
   "name": "python3"
  },
  "language_info": {
   "codemirror_mode": {
    "name": "ipython",
    "version": 3
   },
   "file_extension": ".py",
   "mimetype": "text/x-python",
   "name": "python",
   "nbconvert_exporter": "python",
   "pygments_lexer": "ipython3",
   "version": "3.6.8"
  }
 },
 "nbformat": 4,
 "nbformat_minor": 2
}
