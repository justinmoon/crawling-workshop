{
 "cells": [
  {
   "cell_type": "code",
   "execution_count": 27,
   "metadata": {},
   "outputs": [],
   "source": [
    "%reload_ext autoreload\n",
    "%autoreload 2"
   ]
  },
  {
   "cell_type": "code",
   "execution_count": 1,
   "metadata": {},
   "outputs": [],
   "source": [
    "raw = b'\\xf9\\xbe\\xb4\\xd9version\\x00\\x00\\x00\\x00\\x00{\\x00\\x00\\x00aQ\\xa9\\xab\\x7f\\x11\\x01\\x00\\r\\x04\\x00\\x00\\x00\\x00\\x00\\x00\\x807Y\\\\\\x00\\x00\\x00\\x00\\x00\\x00\\x00\\x00\\x00\\x00\\x00\\x00\\x00\\x00\\x00\\x00\\x00\\x00\\x00\\x00\\x00\\x00\\x00\\x00\\x00\\x00\\x00\\x00\\x00\\x00\\r\\x04\\x00\\x00\\x00\\x00\\x00\\x00\\x00\\x00\\x00\\x00\\x00\\x00\\x00\\x00\\x00\\x00\\x00\\x00\\x00\\x00\\x00\\x00\\x00\\x00\\x9a\\xc6#\\xcd\\t\\x0e\\x9dB%/Satoshi:0.17.0(P2P Electronic Cash)/\\xcc\\x91\\x08\\x00\\x01'"
   ]
  },
  {
   "cell_type": "code",
   "execution_count": 2,
   "metadata": {},
   "outputs": [],
   "source": [
    "from crawler1 import *"
   ]
  },
  {
   "cell_type": "code",
   "execution_count": 3,
   "metadata": {},
   "outputs": [],
   "source": [
    "ne = NetworkEnvelope.parse(BytesIO(raw))"
   ]
  },
  {
   "cell_type": "code",
   "execution_count": 5,
   "metadata": {},
   "outputs": [
    {
     "ename": "NotImplementedError",
     "evalue": "",
     "output_type": "error",
     "traceback": [
      "\u001b[0;31m---------------------------------------------------------------------------\u001b[0m",
      "\u001b[0;31mNotImplementedError\u001b[0m                       Traceback (most recent call last)",
      "\u001b[0;32m<ipython-input-5-c00f367ee57c>\u001b[0m in \u001b[0;36m<module>\u001b[0;34m\u001b[0m\n\u001b[0;32m----> 1\u001b[0;31m \u001b[0mVersionMessage\u001b[0m\u001b[0;34m.\u001b[0m\u001b[0mparse\u001b[0m\u001b[0;34m(\u001b[0m\u001b[0mBytesIO\u001b[0m\u001b[0;34m(\u001b[0m\u001b[0mne\u001b[0m\u001b[0;34m.\u001b[0m\u001b[0mpayload\u001b[0m\u001b[0;34m)\u001b[0m\u001b[0;34m)\u001b[0m\u001b[0;34m\u001b[0m\u001b[0;34m\u001b[0m\u001b[0m\n\u001b[0m",
      "\u001b[0;32m~/advancing-bitcoin/crawler1.py\u001b[0m in \u001b[0;36mparse\u001b[0;34m(cls, stream)\u001b[0m\n\u001b[1;32m    172\u001b[0m     \u001b[0;34m@\u001b[0m\u001b[0mclassmethod\u001b[0m\u001b[0;34m\u001b[0m\u001b[0;34m\u001b[0m\u001b[0m\n\u001b[1;32m    173\u001b[0m     \u001b[0;32mdef\u001b[0m \u001b[0mparse\u001b[0m\u001b[0;34m(\u001b[0m\u001b[0mcls\u001b[0m\u001b[0;34m,\u001b[0m \u001b[0mstream\u001b[0m\u001b[0;34m)\u001b[0m\u001b[0;34m:\u001b[0m\u001b[0;34m\u001b[0m\u001b[0;34m\u001b[0m\u001b[0m\n\u001b[0;32m--> 174\u001b[0;31m         \u001b[0;32mraise\u001b[0m \u001b[0mNotImplementedError\u001b[0m\u001b[0;34m(\u001b[0m\u001b[0;34m)\u001b[0m\u001b[0;34m\u001b[0m\u001b[0;34m\u001b[0m\u001b[0m\n\u001b[0m\u001b[1;32m    175\u001b[0m \u001b[0;34m\u001b[0m\u001b[0m\n\u001b[1;32m    176\u001b[0m \u001b[0;32mclass\u001b[0m \u001b[0mAddress\u001b[0m\u001b[0;34m:\u001b[0m\u001b[0;34m\u001b[0m\u001b[0;34m\u001b[0m\u001b[0m\n",
      "\u001b[0;31mNotImplementedError\u001b[0m: "
     ]
    }
   ],
   "source": [
    "VersionMessage.parse(BytesIO(ne.payload))"
   ]
  },
  {
   "cell_type": "code",
   "execution_count": 8,
   "metadata": {},
   "outputs": [],
   "source": [
    "a = b'\\x7f\\x11\\x01\\x00\\r\\x04\\x00\\x00\\x00\\x00\\x00\\x00wuZ\\\\\\x00\\x00\\x00\\x00\\x00\\x00\\x00\\x00\\x00\\x00\\x00\\x00\\x00\\x00\\x00\\x00\\x00\\x00\\x00\\x00\\x00\\x00\\xff\\xff\\x8aD\\xabn\\xa8 \\r\\x04\\x00\\x00\\x00\\x00\\x00\\x00\\x00\\x00\\x00\\x00\\x00\\x00\\x00\\x00\\x00\\x00\\x00\\x00\\x00\\x00\\x00\\x00\\x00\\x008;l\\xe5\\xe7\\xea\\xa5a$/Satoshi:0.17.0(UASF-SegWit-BIP148)/\\\\\\x92\\x08\\x00\\x01'"
   ]
  },
  {
   "cell_type": "code",
   "execution_count": 9,
   "metadata": {
    "scrolled": true
   },
   "outputs": [],
   "source": [
    "b = b'\\x7f\\x11\\x01\\x00\\r\\x04\\x00\\x00\\x00\\x00\\x00\\x00wuZ\\\\\\x00\\x00\\x00\\x00\\x00\\x00\\x00\\x00\\x00\\x00\\x00\\x00\\x00\\x00\\x00\\x00\\x00\\x00\\x00\\x00\\x00\\x00\\xff\\xff\\x8aD\\xabn\\xa8 \\r\\x04\\x00\\x00\\x00\\x00\\x00\\x00\\x00\\x00\\x00\\x00\\x00\\x00\\x00\\x00\\x00\\x00\\xff\\xff\\x00\\x00\\x00\\x00\\x00\\x008;l\\xe5\\xe7\\xea\\xa5a$/Satoshi:0.17.0(UASF-SegWit-BIP148)/\\\\\\x92\\x08\\x00\\x01'"
   ]
  },
  {
   "cell_type": "code",
   "execution_count": 10,
   "metadata": {},
   "outputs": [
    {
     "data": {
      "text/plain": [
       "False"
      ]
     },
     "execution_count": 10,
     "metadata": {},
     "output_type": "execute_result"
    }
   ],
   "source": [
    "a == b"
   ]
  },
  {
   "cell_type": "code",
   "execution_count": 11,
   "metadata": {},
   "outputs": [
    {
     "name": "stdout",
     "output_type": "stream",
     "text": [
      "[127, 17, 1, 0, 13, 4, 0, 0, 0, 0, 0, 0, 119, 117, 90, 92, 0, 0, 0, 0, 0, 0, 0, 0, 0, 0, 0, 0, 0, 0, 0, 0, 0, 0, 0, 0, 0, 0, 255, 255, 138, 68, 171, 110, 168, 32, 13, 4, 0, 0, 0, 0, 0, 0, 0, 0, 0, 0, 0, 0, 0, 0, 0, 0, 0, 0, 0, 0, 0, 0, 0, 0, 56, 59, 108, 229, 231, 234, 165, 97, 36, 47, 83, 97, 116, 111, 115, 104, 105, 58, 48, 46, 49, 55, 46, 48, 40, 85, 65, 83, 70, 45, 83, 101, 103, 87, 105, 116, 45, 66, 73, 80, 49, 52, 56, 41, 47, 92, 146, 8, 0, 1]\n",
      "[127, 17, 1, 0, 13, 4, 0, 0, 0, 0, 0, 0, 119, 117, 90, 92, 0, 0, 0, 0, 0, 0, 0, 0, 0, 0, 0, 0, 0, 0, 0, 0, 0, 0, 0, 0, 0, 0, 255, 255, 138, 68, 171, 110, 168, 32, 13, 4, 0, 0, 0, 0, 0, 0, 0, 0, 0, 0, 0, 0, 0, 0, 0, 0, 255, 255, 0, 0, 0, 0, 0, 0, 56, 59, 108, 229, 231, 234, 165, 97, 36, 47, 83, 97, 116, 111, 115, 104, 105, 58, 48, 46, 49, 55, 46, 48, 40, 85, 65, 83, 70, 45, 83, 101, 103, 87, 105, 116, 45, 66, 73, 80, 49, 52, 56, 41, 47, 92, 146, 8, 0, 1]\n"
     ]
    }
   ],
   "source": [
    "print(list(a))\n",
    "print(list(b))"
   ]
  },
  {
   "cell_type": "code",
   "execution_count": 12,
   "metadata": {},
   "outputs": [
    {
     "data": {
      "text/plain": [
       "(122, 122)"
      ]
     },
     "execution_count": 12,
     "metadata": {},
     "output_type": "execute_result"
    }
   ],
   "source": [
    "len(a), len(b)"
   ]
  },
  {
   "cell_type": "code",
   "execution_count": 13,
   "metadata": {},
   "outputs": [
    {
     "name": "stdout",
     "output_type": "stream",
     "text": [
      "0 127 127\n",
      "1 17 17\n",
      "2 1 1\n",
      "3 0 0\n",
      "4 13 13\n",
      "5 4 4\n",
      "6 0 0\n",
      "7 0 0\n",
      "8 0 0\n",
      "9 0 0\n",
      "10 0 0\n",
      "11 0 0\n",
      "12 119 119\n",
      "13 117 117\n",
      "14 90 90\n",
      "15 92 92\n",
      "16 0 0\n",
      "17 0 0\n",
      "18 0 0\n",
      "19 0 0\n",
      "20 0 0\n",
      "21 0 0\n",
      "22 0 0\n",
      "23 0 0\n",
      "24 0 0\n",
      "25 0 0\n",
      "26 0 0\n",
      "27 0 0\n",
      "28 0 0\n",
      "29 0 0\n",
      "30 0 0\n",
      "31 0 0\n",
      "32 0 0\n",
      "33 0 0\n",
      "34 0 0\n",
      "35 0 0\n",
      "36 0 0\n",
      "37 0 0\n",
      "38 255 255\n",
      "39 255 255\n",
      "40 138 138\n",
      "41 68 68\n",
      "42 171 171\n",
      "43 110 110\n",
      "44 168 168\n",
      "45 32 32\n",
      "46 13 13\n",
      "47 4 4\n",
      "48 0 0\n",
      "49 0 0\n",
      "50 0 0\n",
      "51 0 0\n",
      "52 0 0\n",
      "53 0 0\n",
      "54 0 0\n",
      "55 0 0\n",
      "56 0 0\n",
      "57 0 0\n",
      "58 0 0\n",
      "59 0 0\n",
      "60 0 0\n",
      "61 0 0\n",
      "62 0 0\n",
      "63 0 0\n",
      "64 0 255\n",
      "65 0 255\n",
      "66 0 0\n",
      "67 0 0\n",
      "68 0 0\n",
      "69 0 0\n",
      "70 0 0\n",
      "71 0 0\n",
      "72 56 56\n",
      "73 59 59\n",
      "74 108 108\n",
      "75 229 229\n",
      "76 231 231\n",
      "77 234 234\n",
      "78 165 165\n",
      "79 97 97\n",
      "80 36 36\n",
      "81 47 47\n",
      "82 83 83\n",
      "83 97 97\n",
      "84 116 116\n",
      "85 111 111\n",
      "86 115 115\n",
      "87 104 104\n",
      "88 105 105\n",
      "89 58 58\n",
      "90 48 48\n",
      "91 46 46\n",
      "92 49 49\n",
      "93 55 55\n",
      "94 46 46\n",
      "95 48 48\n",
      "96 40 40\n",
      "97 85 85\n",
      "98 65 65\n",
      "99 83 83\n",
      "100 70 70\n",
      "101 45 45\n",
      "102 83 83\n",
      "103 101 101\n",
      "104 103 103\n",
      "105 87 87\n",
      "106 105 105\n",
      "107 116 116\n",
      "108 45 45\n",
      "109 66 66\n",
      "110 73 73\n",
      "111 80 80\n",
      "112 49 49\n",
      "113 52 52\n",
      "114 56 56\n",
      "115 41 41\n",
      "116 47 47\n",
      "117 92 92\n",
      "118 146 146\n",
      "119 8 8\n",
      "120 0 0\n",
      "121 1 1\n"
     ]
    }
   ],
   "source": [
    "for i in range(len(a)):\n",
    "    print(i, a[i], b[i])"
   ]
  },
  {
   "cell_type": "code",
   "execution_count": 14,
   "metadata": {},
   "outputs": [
    {
     "name": "stdout",
     "output_type": "stream",
     "text": [
      "True\n"
     ]
    }
   ],
   "source": [
    "c = b'\\x7f\\x11\\x01\\x00\\r\\x04\\x00\\x00\\x00\\x00\\x00\\x00\\x186Y\\\\\\x00\\x00\\x00\\x00\\x00\\x00\\x00\\x00\\x00\\x00\\x00\\x00*\\x03\\xb0\\xc0\\x00\\x01\\x00\\xd0\\x00\\x00\\x00\\x00\\x0c\\x1b@\\x01\\xa7\\xce\\r\\x04\\x00\\x00\\x00\\x00\\x00\\x00\\x00\\x00\\x00\\x00\\x00\\x00\\x00\\x00\\x00\\x00\\x00\\x00\\x00\\x00\\x00\\x00\\x00\\x00iI\\x9b\\x8b[\\x16\\r\\xd4\\x10/Satoshi:0.17.0/\\xcc\\x91\\x08\\x00\\x01'\n",
    "d = b'\\x7f\\x11\\x01\\x00\\r\\x04\\x00\\x00\\x00\\x00\\x00\\x00\\x186Y\\\\\\x00\\x00\\x00\\x00\\x00\\x00\\x00\\x00\\x00\\x00\\x00\\x00*\\x03\\xb0\\xc0\\x00\\x01\\x00\\xd0\\x00\\x00\\x00\\x00\\x0c\\x1b@\\x01\\xa7\\xce\\r\\x04\\x00\\x00\\x00\\x00\\x00\\x00\\x00\\x00\\x00\\x00\\x00\\x00\\x00\\x00\\x00\\x00\\x00\\x00\\x00\\x00\\x00\\x00\\x00\\x00iI\\x9b\\x8b[\\x16\\r\\xd4\\x10/Satoshi:0.17.0/\\xcc\\x91\\x08\\x00\\x01'\n",
    "\n",
    "print(c == d)"
   ]
  },
  {
   "cell_type": "code",
   "execution_count": 15,
   "metadata": {},
   "outputs": [
    {
     "data": {
      "text/plain": [
       "True"
      ]
     },
     "execution_count": 15,
     "metadata": {},
     "output_type": "execute_result"
    }
   ],
   "source": [
    "b'\\xfd\\x87\\xd8~\\xebC' == b\"\\xFD\\x87\\xD8\\x7E\\xEB\\x43\""
   ]
  },
  {
   "cell_type": "code",
   "execution_count": 17,
   "metadata": {},
   "outputs": [],
   "source": [
    "from base64 import b32decode, b32encode"
   ]
  },
  {
   "cell_type": "code",
   "execution_count": 19,
   "metadata": {},
   "outputs": [
    {
     "ename": "TypeError",
     "evalue": "memoryview: a bytes-like object is required, not 'str'",
     "output_type": "error",
     "traceback": [
      "\u001b[0;31m---------------------------------------------------------------------------\u001b[0m",
      "\u001b[0;31mTypeError\u001b[0m                                 Traceback (most recent call last)",
      "\u001b[0;32m<ipython-input-19-e17ce308a79f>\u001b[0m in \u001b[0;36m<module>\u001b[0;34m\u001b[0m\n\u001b[0;32m----> 1\u001b[0;31m \u001b[0mb32encode\u001b[0m\u001b[0;34m(\u001b[0m\u001b[0;34m\"aihen7kfbtscyknf\"\u001b[0m\u001b[0;34m)\u001b[0m\u001b[0;34m\u001b[0m\u001b[0;34m\u001b[0m\u001b[0m\n\u001b[0m",
      "\u001b[0;32m/opt/tljh/user/lib/python3.6/base64.py\u001b[0m in \u001b[0;36mb32encode\u001b[0;34m(s)\u001b[0m\n\u001b[1;32m    152\u001b[0m \u001b[0;34m\u001b[0m\u001b[0m\n\u001b[1;32m    153\u001b[0m     \u001b[0;32mif\u001b[0m \u001b[0;32mnot\u001b[0m \u001b[0misinstance\u001b[0m\u001b[0;34m(\u001b[0m\u001b[0ms\u001b[0m\u001b[0;34m,\u001b[0m \u001b[0mbytes_types\u001b[0m\u001b[0;34m)\u001b[0m\u001b[0;34m:\u001b[0m\u001b[0;34m\u001b[0m\u001b[0;34m\u001b[0m\u001b[0m\n\u001b[0;32m--> 154\u001b[0;31m         \u001b[0ms\u001b[0m \u001b[0;34m=\u001b[0m \u001b[0mmemoryview\u001b[0m\u001b[0;34m(\u001b[0m\u001b[0ms\u001b[0m\u001b[0;34m)\u001b[0m\u001b[0;34m.\u001b[0m\u001b[0mtobytes\u001b[0m\u001b[0;34m(\u001b[0m\u001b[0;34m)\u001b[0m\u001b[0;34m\u001b[0m\u001b[0;34m\u001b[0m\u001b[0m\n\u001b[0m\u001b[1;32m    155\u001b[0m     \u001b[0mleftover\u001b[0m \u001b[0;34m=\u001b[0m \u001b[0mlen\u001b[0m\u001b[0;34m(\u001b[0m\u001b[0ms\u001b[0m\u001b[0;34m)\u001b[0m \u001b[0;34m%\u001b[0m \u001b[0;36m5\u001b[0m\u001b[0;34m\u001b[0m\u001b[0;34m\u001b[0m\u001b[0m\n\u001b[1;32m    156\u001b[0m     \u001b[0;31m# Pad the last quantum with zero bits if necessary\u001b[0m\u001b[0;34m\u001b[0m\u001b[0;34m\u001b[0m\u001b[0;34m\u001b[0m\u001b[0m\n",
      "\u001b[0;31mTypeError\u001b[0m: memoryview: a bytes-like object is required, not 'str'"
     ]
    }
   ],
   "source": [
    "b32decode(\"aihen7kfbtscyknf\")"
   ]
  },
  {
   "cell_type": "code",
   "execution_count": 20,
   "metadata": {},
   "outputs": [
    {
     "data": {
      "text/plain": [
       "b'a'"
      ]
     },
     "execution_count": 20,
     "metadata": {},
     "output_type": "execute_result"
    }
   ],
   "source": [
    "b\"a\".lower()"
   ]
  },
  {
   "cell_type": "code",
   "execution_count": 24,
   "metadata": {},
   "outputs": [
    {
     "name": "stdout",
     "output_type": "stream",
     "text": [
      "b'4QWCTJI='\n"
     ]
    },
    {
     "data": {
      "text/plain": [
       "'4qwctji=.onion'"
      ]
     },
     "execution_count": 24,
     "metadata": {},
     "output_type": "execute_result"
    }
   ],
   "source": [
    "b = b'\\x02\\x0eF\\xfdE\\x0c\\xe4,)\\xa5'\n",
    "\n",
    "bb = b32encode(b[6:])\n",
    "print(bb)\n",
    "bb.lower().decode() + \".onion\""
   ]
  },
  {
   "cell_type": "code",
   "execution_count": 35,
   "metadata": {},
   "outputs": [],
   "source": [
    "from crawler1 import *"
   ]
  },
  {
   "cell_type": "code",
   "execution_count": 36,
   "metadata": {},
   "outputs": [
    {
     "name": "stdout",
     "output_type": "stream",
     "text": [
      "b'\\xfd\\x87\\xd8~\\xebC'\n",
      "b'\\x02\\x0eF\\xfdE\\x0c\\xe4,)\\xa5'\n"
     ]
    },
    {
     "data": {
      "text/plain": [
       "'aihen7kfbtscyknf.onion'"
      ]
     },
     "execution_count": 36,
     "metadata": {},
     "output_type": "execute_result"
    }
   ],
   "source": [
    "bytes_to_ip(ip_to_bytes('aihen7kfbtscyknf.onion'))"
   ]
  },
  {
   "cell_type": "code",
   "execution_count": null,
   "metadata": {},
   "outputs": [],
   "source": []
  }
 ],
 "metadata": {
  "kernelspec": {
   "display_name": "Python 3",
   "language": "python",
   "name": "python3"
  },
  "language_info": {
   "codemirror_mode": {
    "name": "ipython",
    "version": 3
   },
   "file_extension": ".py",
   "mimetype": "text/x-python",
   "name": "python",
   "nbconvert_exporter": "python",
   "pygments_lexer": "ipython3",
   "version": "3.6.8"
  }
 },
 "nbformat": 4,
 "nbformat_minor": 2
}
