{
 "cells": [
  {
   "cell_type": "code",
   "execution_count": 1,
   "metadata": {},
   "outputs": [],
   "source": [
    "def check_bit(number, index):\n",
    "    \"\"\"See if the bit at `index` in binary representation of `number` is on\"\"\"\n",
    "    mask = 1 << index\n",
    "    return bool(number & mask)\n",
    "\n",
    "\n",
    "def services_int_to_dict(services_int):\n",
    "    return {\n",
    "        \"NODE_NETWORK\": check_bit(services_int, 0),  # 1 = 2**0\n",
    "        \"NODE_GETUTXO\": check_bit(services_int, 1),  # 2 = 2**1\n",
    "        \"NODE_BLOOM\": check_bit(services_int, 2),  # 4 = 2**2\n",
    "        \"NODE_WITNESS\": check_bit(services_int, 3),  # 8 = 2**3\n",
    "        \"NODE_NETWORK_LIMITED\": check_bit(services_int, 10),  # 1024 = 2**10\n",
    "    }"
   ]
  },
  {
   "cell_type": "code",
   "execution_count": 3,
   "metadata": {},
   "outputs": [
    {
     "data": {
      "text/plain": [
       "{'NODE_NETWORK': True,\n",
       " 'NODE_GETUTXO': True,\n",
       " 'NODE_BLOOM': False,\n",
       " 'NODE_WITNESS': False,\n",
       " 'NODE_NETWORK_LIMITED': True}"
      ]
     },
     "execution_count": 3,
     "metadata": {},
     "output_type": "execute_result"
    }
   ],
   "source": [
    "services_int_to_dict(1027)"
   ]
  },
  {
   "cell_type": "code",
   "execution_count": null,
   "metadata": {},
   "outputs": [],
   "source": []
  }
 ],
 "metadata": {
  "kernelspec": {
   "display_name": "Python 3",
   "language": "python",
   "name": "python3"
  },
  "language_info": {
   "codemirror_mode": {
    "name": "ipython",
    "version": 3
   },
   "file_extension": ".py",
   "mimetype": "text/x-python",
   "name": "python",
   "nbconvert_exporter": "python",
   "pygments_lexer": "ipython3",
   "version": "3.6.8"
  }
 },
 "nbformat": 4,
 "nbformat_minor": 2
}
